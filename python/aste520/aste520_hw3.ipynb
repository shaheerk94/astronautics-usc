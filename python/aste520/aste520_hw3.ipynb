{
 "cells": [
  {
   "cell_type": "markdown",
   "id": "b8c0c6938a5ed90e",
   "metadata": {},
   "source": [
    "# ASTE 520\n",
    "Homework 3, 4, 5\n",
    "\n",
    "Shaheer Khan\n",
    "\n",
    "September 11, 2024\n"
   ]
  },
  {
   "metadata": {},
   "cell_type": "markdown",
   "source": [
    "## Problem 3-1\n",
    "Calculate difference between solar day and sidereal day on Earth.\n",
    "\n",
    "Let one tropical year be \\(T\\).\n",
    "Given \\(N = 365.24\\) solar days per year and \\(P_0 = 24\\,\\text{hr}\\).\n",
    "\n",
    "In one year Earth makes one extra spin relative to the stars, so sidereal-day count is \\(N+1\\).\n",
    "Hence\n",
    "\n",
    "$$\n",
    "T = N P_0 = (N+1) P_s \\quad \\Rightarrow \\quad P_s = \\frac{N}{N+1} P_0\n",
    "$$\n",
    "\n",
    "Difference:\n",
    "\n",
    "$$\n",
    "\\Delta P = P_0 - P_s = P_0 \\left(1 - \\frac{N}{N+1}\\right) = \\frac{P_0}{N+1}\n",
    "$$\n",
    "\n",
    "Numerical evaluation:\n",
    "\n",
    "$$\n",
    "\\Delta P = \\frac{86400\\ \\text{s}}{366.24} \\approx 235.91\\ \\text{s}\n",
    "= 3\\ \\text{min}\\ 55.9\\ \\text{s} \\approx 3\\ \\text{min}\\ 56\\ \\text{s}\n",
    "$$\n"
   ],
   "id": "ecc92f217b9755c3"
  },
  {
   "metadata": {
    "ExecuteTime": {
     "end_time": "2025-09-11T03:00:44.035859Z",
     "start_time": "2025-09-11T03:00:44.021323Z"
    }
   },
   "cell_type": "code",
   "source": [
    "# solar day length in seconds\n",
    "P0 = 24 * 3600   # 24 hr = 86400 s\n",
    "\n",
    "# number of solar days per year\n",
    "N = 365.24\n",
    "\n",
    "# sidereal day length\n",
    "Ps = (N / (N + 1)) * P0\n",
    "\n",
    "# difference between solar and sidereal day\n",
    "delta_P = P0 - Ps\n",
    "\n",
    "# convert to min, sec\n",
    "minutes = int(delta_P // 60)\n",
    "seconds = delta_P % 60\n",
    "\n",
    "print(f\"Sidereal day length: {Ps:.2f} s ({Ps/3600:.4f} hr)\")\n",
    "print(f\"Difference ΔP: {delta_P:.2f} s ≈ {minutes} min {seconds:.1f} sec\")"
   ],
   "id": "initial_id",
   "outputs": [
    {
     "name": "stdout",
     "output_type": "stream",
     "text": [
      "Sidereal day length: 86164.09 s (23.9345 hr)\n",
      "Difference ΔP: 235.91 s ≈ 3 min 55.9 sec\n"
     ]
    }
   ],
   "execution_count": 21
  },
  {
   "metadata": {},
   "cell_type": "markdown",
   "source": [
    "## Problem 3-3\n",
    "Compare star apparent brightness."
   ],
   "id": "60871029aeb3a489"
  },
  {
   "metadata": {
    "ExecuteTime": {
     "end_time": "2025-09-11T03:00:44.264551Z",
     "start_time": "2025-09-11T03:00:44.098426Z"
    }
   },
   "cell_type": "code",
   "source": [
    "import pint\n",
    "from numpy import sin, cos, asin, acos, atan2, pi, array\n",
    "import space_functions as sf\n",
    "\n",
    "## Part a\n",
    "ureg = pint.UnitRegistry()\n",
    "Ms = 1.41\n",
    "mc = -0.73\n",
    "rs_ly = 8.71 * ureg.light_year\n",
    "rs_pc = rs_ly.to(ureg.parsec)\n",
    "\n",
    "ms = sf.apparent_magnitude(rs_ly, Ms)\n",
    "print(f'Sirius apparent magnitude:  {ms}')\n",
    "\n",
    "## Part b\n",
    "\n",
    "f1_f2 = 10 ** ((ms - mc)/-2.5)\n",
    "print(f'Ratio of energy flux densities: {f1_f2}')\n"
   ],
   "id": "ed90786d2a1e2167",
   "outputs": [
    {
     "name": "stdout",
     "output_type": "stream",
     "text": [
      "Sirius apparent magnitude:  -1.457038600989586\n",
      "Ratio of energy flux densities: 1.9535091079316436\n"
     ]
    }
   ],
   "execution_count": 22
  },
  {
   "metadata": {},
   "cell_type": "markdown",
   "source": "## Homework 4\n",
   "id": "4df3561f7872f55a"
  },
  {
   "metadata": {
    "ExecuteTime": {
     "end_time": "2025-09-11T03:09:34.228576Z",
     "start_time": "2025-09-11T03:09:34.061016Z"
    }
   },
   "cell_type": "code",
   "source": [
    "import space_functions as sf\n",
    "import importlib\n",
    "importlib.reload(sf)\n",
    "\n",
    "\n",
    "## Problem 4-3\n",
    "lambda_s = 350.804 # deg\n",
    "beta_s = -2.083 # deg\n",
    "rs = 9.621 # au\n",
    "\n",
    "lambda_u = 56.099 # deg\n",
    "beta_u = -0.239 # deg\n",
    "ru = 19.548 # au\n",
    "\n",
    "s_au, s_km = sf.planet_distance(lambda_s, beta_s, rs, lambda_u, beta_u, ru)\n",
    "print(f'Distance b/w Saturn & Uranus: {s_au} AU, {s_km} km')\n",
    "\n"
   ],
   "id": "315ba301ef3fecd2",
   "outputs": [
    {
     "name": "stdout",
     "output_type": "stream",
     "text": [
      "Distance b/w Saturn & Uranus: 17.819335751492027 AU, 2665734673.2380567 km\n"
     ]
    }
   ],
   "execution_count": 28
  }
 ],
 "metadata": {
  "kernelspec": {
   "display_name": "Python 3 (ipykernel)",
   "language": "python",
   "name": "python3"
  },
  "language_info": {
   "codemirror_mode": {
    "name": "ipython",
    "version": 3
   },
   "file_extension": ".py",
   "mimetype": "text/x-python",
   "name": "python",
   "nbconvert_exporter": "python",
   "pygments_lexer": "ipython3",
   "version": "3.9.6"
  }
 },
 "nbformat": 4,
 "nbformat_minor": 5
}
