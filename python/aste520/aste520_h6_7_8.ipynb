{
 "cells": [
  {
   "metadata": {
    "ExecuteTime": {
     "end_time": "2025-09-15T03:52:14.573702Z",
     "start_time": "2025-09-15T03:52:14.514366Z"
    }
   },
   "cell_type": "code",
   "source": [
    "import numpy as np\n",
    "import space_environment as se\n",
    "import importlib\n",
    "importlib.reload(se)\n",
    "\n",
    "## Homework 6 \n",
    "# Problem 1 Part 1\n",
    "T = 0.5 * 365.25 * 24 * 60 * 60 # seconds \n",
    "V = 7726 # m/s\n",
    "n0 = 1.1e9 # cm^-3\n",
    "o2_fluence = se.oxygen_fluence(n0, V, T)\n",
    "\n",
    "print(f'oxygen fluence: {o2_fluence} cm^-2')\n",
    "\n",
    "# Problem 1 Part 2 \n",
    "kapton_recession_mil_ref = 2.4 # mil/year\n",
    "kapton_recession_mm_ref = 0.061 # mm/year\n",
    "Fref = 2e21\n",
    "scale = o2_fluence/Fref\n",
    "kapton_recession_mil = kapton_recession_mil_ref * scale \n",
    "kapton_recession_mm = kapton_recession_mm_ref * scale \n",
    "\n",
    "print(f'Kapton recession in 0.5 years (mil): {kapton_recession_mil}')\n",
    "print(f'Kapton recession in 0.5 years (mm): {kapton_recession_mm} ')\n",
    "\n",
    "# Problem 2\n",
    "u_sun = 1.327e11 # km^3\n",
    "r_earth = 1.496e8 # km, distance from earth to sun\n",
    "ve = np.sqrt(u_sun/r_earth)\n",
    "print(f'Earth velocity around sun: {ve} km/s')\n",
    "\n",
    "\n",
    "# Problem 3 \n",
    "v_inf_earth = np.sqrt(2 * u_sun/r_earth)\n"
   ],
   "id": "9c4ff90ef779ead5",
   "outputs": [
    {
     "name": "stdout",
     "output_type": "stream",
     "text": [
      "oxygen fluence: 1.3409770968e+22 cm^-2\n",
      "Kapton recession in 0.5 years (mil): 16.0917251616\n",
      "Kapton recession in 0.5 years (mm): 0.408998014524 \n",
      "Earth velocity around sun: 29.783083882658914 km/s\n"
     ]
    }
   ],
   "execution_count": 19
  },
  {
   "metadata": {},
   "cell_type": "markdown",
   "source": "",
   "id": "1d823ea6f4ea45e7"
  }
 ],
 "metadata": {
  "kernelspec": {
   "display_name": "Python 3",
   "language": "python",
   "name": "python3"
  },
  "language_info": {
   "codemirror_mode": {
    "name": "ipython",
    "version": 2
   },
   "file_extension": ".py",
   "mimetype": "text/x-python",
   "name": "python",
   "nbconvert_exporter": "python",
   "pygments_lexer": "ipython2",
   "version": "2.7.6"
  }
 },
 "nbformat": 4,
 "nbformat_minor": 5
}
